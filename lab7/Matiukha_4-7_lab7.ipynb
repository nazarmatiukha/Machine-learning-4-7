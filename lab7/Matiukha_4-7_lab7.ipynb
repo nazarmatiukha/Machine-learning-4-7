{
 "cells": [
  {
   "cell_type": "code",
   "execution_count": 1,
   "metadata": {},
   "outputs": [
    {
     "ename": "ModuleNotFoundError",
     "evalue": "No module named 'surprise'",
     "output_type": "error",
     "traceback": [
      "\u001b[1;31m---------------------------------------------------------------------------\u001b[0m",
      "\u001b[1;31mModuleNotFoundError\u001b[0m                       Traceback (most recent call last)",
      "Cell \u001b[1;32mIn[1], line 3\u001b[0m\n\u001b[0;32m      1\u001b[0m \u001b[38;5;28;01mimport\u001b[39;00m \u001b[38;5;21;01mnumpy\u001b[39;00m \u001b[38;5;28;01mas\u001b[39;00m \u001b[38;5;21;01mnp\u001b[39;00m\n\u001b[0;32m      2\u001b[0m \u001b[38;5;28;01mimport\u001b[39;00m \u001b[38;5;21;01mpandas\u001b[39;00m \u001b[38;5;28;01mas\u001b[39;00m \u001b[38;5;21;01mpd\u001b[39;00m\n\u001b[1;32m----> 3\u001b[0m \u001b[38;5;28;01mfrom\u001b[39;00m \u001b[38;5;21;01msurprise\u001b[39;00m \u001b[38;5;28;01mimport\u001b[39;00m Dataset, Reader, SVD, KNNBasic\n\u001b[0;32m      4\u001b[0m \u001b[38;5;28;01mfrom\u001b[39;00m \u001b[38;5;21;01msurprise\u001b[39;00m\u001b[38;5;21;01m.\u001b[39;00m\u001b[38;5;21;01mmodel_selection\u001b[39;00m \u001b[38;5;28;01mimport\u001b[39;00m GridSearchCV, cross_validate\n\u001b[0;32m      5\u001b[0m \u001b[38;5;28;01mfrom\u001b[39;00m \u001b[38;5;21;01msurprise\u001b[39;00m\u001b[38;5;21;01m.\u001b[39;00m\u001b[38;5;21;01mdump\u001b[39;00m \u001b[38;5;28;01mimport\u001b[39;00m dump, load\n",
      "\u001b[1;31mModuleNotFoundError\u001b[0m: No module named 'surprise'"
     ]
    }
   ],
   "source": [
    "import numpy as np\n",
    "import pandas as pd\n",
    "from surprise import Dataset, Reader, SVD, KNNBasic\n",
    "from surprise.model_selection import GridSearchCV, cross_validate\n",
    "from surprise.dump import dump, load\n",
    "\n",
    "# 1. Завантаження датасету\n",
    "from surprise.dataset import DatasetAutoFolds\n",
    "data = DatasetAutoFolds(ratings_file='ml-100k/u.data', \n",
    "                        reader=Reader(line_format='user item rating timestamp', sep='\\t'))\n",
    "\n"
   ]
  },
  {
   "cell_type": "code",
   "execution_count": null,
   "metadata": {},
   "outputs": [],
   "source": [
    "# 2. Виведення перших 5 рядків\n",
    "df = pd.DataFrame(data.raw_ratings, columns=['user', 'item', 'rating', 'timestamp'])\n",
    "print(\"Перші 5 рядків датасету:\")\n",
    "print(df.head())\n",
    "\n"
   ]
  },
  {
   "cell_type": "code",
   "execution_count": null,
   "metadata": {},
   "outputs": [],
   "source": [
    "# 3. Реалізація двох алгоритмів\n",
    "svd = SVD()\n",
    "knn = KNNBasic()\n",
    "\n"
   ]
  },
  {
   "cell_type": "code",
   "execution_count": null,
   "metadata": {},
   "outputs": [],
   "source": [
    "# 4. Крос-валідація та підбір параметрів\n",
    "param_grid_svd = {'n_epochs': [5, 10, 20], 'lr_all': [0.002, 0.005], 'reg_all': [0.4, 0.6]}\n",
    "gs_svd = GridSearchCV(SVD, param_grid_svd, measures=['mae'], cv=3)\n",
    "gs_svd.fit(data.build_full_trainset())\n",
    "\n",
    "param_grid_knn = {'k': [20, 40, 60], 'sim_options': {'name': ['msd', 'cosine'], 'user_based': [False, True]}}\n",
    "gs_knn = GridSearchCV(KNNBasic, param_grid_knn, measures=['mae'], cv=3)\n",
    "gs_knn.fit(data.build_full_trainset())\n",
    "\n",
    "# Вибір найкращих параметрів\n",
    "best_svd = gs_svd.best_estimator['mae']\n",
    "best_knn = gs_knn.best_estimator['mae']\n",
    "\n",
    "print(\"Найкращі параметри для SVD:\", gs_svd.best_params['mae'])\n",
    "print(\"Найкращі параметри для KNN:\", gs_knn.best_params['mae'])\n"
   ]
  },
  {
   "cell_type": "code",
   "execution_count": null,
   "metadata": {},
   "outputs": [],
   "source": [
    "\n",
    "# 5. Вибір найкращого алгоритму на основі MAE\n",
    "results_svd = cross_validate(best_svd, data, measures=['MAE'], cv=5, verbose=False)\n",
    "results_knn = cross_validate(best_knn, data, measures=['MAE'], cv=5, verbose=False)\n",
    "\n",
    "mae_svd = np.mean(results_svd['test_mae'])\n",
    "mae_knn = np.mean(results_knn['test_mae'])\n",
    "\n",
    "print(f\"MAE для SVD: {mae_svd}\")\n",
    "print(f\"MAE для KNN: {mae_knn}\")\n",
    "\n",
    "best_algo = best_svd if mae_svd < mae_knn else best_knn\n",
    "print(f\"Найкращий алгоритм: {'SVD' if mae_svd < mae_knn else 'KNN'}\")\n",
    "\n",
    "# Тренування найкращої моделі на всьому датасеті\n",
    "trainset = data.build_full_trainset()\n",
    "best_algo.fit(trainset)\n",
    "\n"
   ]
  },
  {
   "cell_type": "code",
   "execution_count": null,
   "metadata": {},
   "outputs": [],
   "source": [
    "# 6. Рекомендації для конкретного користувача\n",
    "user_id = 1  # Можна змінити на будь-якого іншого користувача\n",
    "movie_ids = range(1, 1683)  # Всі фільми в датасеті\n",
    "\n",
    "# Отримання прогнозів для всіх фільмів для вказаного користувача\n",
    "predictions = [best_algo.predict(user_id, item_id) for item_id in movie_ids]\n",
    "\n",
    "# Сортування прогнозів за оцінкою\n",
    "top_predictions = sorted(predictions, key=lambda x: x.est, reverse=True)[:10]\n",
    "\n",
    "print(f\"\\nТоп-10 рекомендацій для користувача {user_id}:\")\n",
    "for pred in top_predictions:\n",
    "    print(f\"Фільм ID: {pred.iid}, Прогнозована оцінка: {pred.est:.2f}\")\n",
    "\n",
    "# Збереження моделі\n",
    "dump('best_model.pkl', algo=best_algo)"
   ]
  },
  {
   "cell_type": "markdown",
   "metadata": {},
   "source": [
    "Використання готової бібліотеки Surprise дозволяє швидко експериментувати з різними алгоритмами та легко оптимізувати їх параметри. З іншого боку, створення власної системи дає більше контролю над процесом та допомагає краще зрозуміти принципи роботи рекомендаційних систем."
   ]
  }
 ],
 "metadata": {
  "kernelspec": {
   "display_name": "Python 3",
   "language": "python",
   "name": "python3"
  },
  "language_info": {
   "codemirror_mode": {
    "name": "ipython",
    "version": 3
   },
   "file_extension": ".py",
   "mimetype": "text/x-python",
   "name": "python",
   "nbconvert_exporter": "python",
   "pygments_lexer": "ipython3",
   "version": "3.12.6"
  }
 },
 "nbformat": 4,
 "nbformat_minor": 2
}
