{
 "cells": [
  {
   "cell_type": "code",
   "execution_count": 23,
   "metadata": {},
   "outputs": [
    {
     "name": "stdout",
     "output_type": "stream",
     "text": [
      "System accuracy: 0.00\n",
      "Recommendations for Alice: [('Tenet', 6.919396563499031)]\n"
     ]
    }
   ],
   "source": [
    "import numpy as np\n",
    "from collections import defaultdict\n",
    "\n",
    "data = {\n",
    "    'Alice': {'Inception': 4.5, 'Interstellar': 5, 'Dunkirk': 3.5, 'The Dark Knight': 4},\n",
    "    'Bob': {'Inception': 5, 'Interstellar': 4, 'The Dark Knight': 5, 'Tenet': 3},\n",
    "    'Charlie': {'Inception': 4, 'The Dark Knight': 4.5, 'Tenet': 4, 'Dunkirk': 3},\n",
    "    'David': {'Interstellar': 5, 'The Dark Knight': 4, 'Dunkirk': 4},\n",
    "}\n",
    "\n",
    "def cosine_similarity(user1, user2):\n",
    "    common_movies = set(user1.keys()) & set(user2.keys())\n",
    "    if not common_movies:\n",
    "        return 0\n",
    "    \n",
    "    sum_xx, sum_yy, sum_xy = 0, 0, 0\n",
    "    for movie in common_movies:\n",
    "        x = user1[movie]\n",
    "        y = user2[movie]\n",
    "        sum_xx += x * x\n",
    "        sum_yy += y * y\n",
    "        sum_xy += x * y\n",
    "    \n",
    "    return sum_xy / np.sqrt(sum_xx * sum_yy)\n",
    "\n",
    "def get_recommendations(user, data, n=2):\n",
    "    similarities = {}\n",
    "    for other_user in data:\n",
    "        if other_user != user:\n",
    "            similarities[other_user] = cosine_similarity(data[user], data[other_user])\n",
    "    \n",
    "    similar_users = sorted(similarities.items(), key=lambda x: x[1], reverse=True)\n",
    "    \n",
    "    recommendations = defaultdict(float)\n",
    "    for other_user, similarity in similar_users:\n",
    "        for movie in data[other_user]:\n",
    "            if movie not in data[user]:\n",
    "                recommendations[movie] += similarity * data[other_user][movie]\n",
    "    \n",
    "    return sorted(recommendations.items(), key=lambda x: x[1], reverse=True)[:n]\n",
    "\n",
    "def evaluate_system(data):\n",
    "    total_recommendations = 0\n",
    "    correct_recommendations = 0\n",
    "    \n",
    "    for user in data:\n",
    "        user_movies = set(data[user].keys())\n",
    "        for movie in user_movies:\n",
    "            temp_data = {u: {m: r for m, r in movies.items() if m != movie} for u, movies in data.items()}\n",
    "            recs = get_recommendations(user, temp_data, n=len(data[user]))  # Get all possible recommendations\n",
    "            if movie in dict(recs):\n",
    "                correct_recommendations += 1\n",
    "            total_recommendations += 1\n",
    "    \n",
    "    accuracy = correct_recommendations / total_recommendations if total_recommendations > 0 else 0\n",
    "    return accuracy\n",
    "\n",
    "def get_user_recommendation(user):\n",
    "    if user in data:\n",
    "        recommendations = get_recommendations(user, data)\n",
    "        return recommendations\n",
    "    else:\n",
    "        return None\n",
    "\n",
    "accuracy = evaluate_system(data)\n",
    "print(f\"System accuracy: {accuracy:.2f}\")\n",
    "\n",
    "user_recommendation = get_user_recommendation('Alice')\n",
    "if user_recommendation:\n",
    "    print(f\"Recommendations for Alice: {user_recommendation}\")\n",
    "else:\n",
    "    print(\"User not found\")"
   ]
  }
 ],
 "metadata": {
  "kernelspec": {
   "display_name": "Python 3",
   "language": "python",
   "name": "python3"
  },
  "language_info": {
   "codemirror_mode": {
    "name": "ipython",
    "version": 3
   },
   "file_extension": ".py",
   "mimetype": "text/x-python",
   "name": "python",
   "nbconvert_exporter": "python",
   "pygments_lexer": "ipython3",
   "version": "3.12.6"
  }
 },
 "nbformat": 4,
 "nbformat_minor": 2
}
