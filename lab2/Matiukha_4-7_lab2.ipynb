{
 "cells": [
  {
   "cell_type": "code",
   "execution_count": 14,
   "metadata": {},
   "outputs": [
    {
     "name": "stdout",
     "output_type": "stream",
     "text": [
      "  Country/Territory IMF[1][13]            World Bank[14]             \\\n",
      "  Country/Territory   Forecast       Year       Estimate       Year   \n",
      "0             World  109529216       2024      105435540       2023   \n",
      "1     United States   28781083       2024       27360935       2023   \n",
      "2             China   18532633  [n 1]2024       17794782  [n 3]2023   \n",
      "3           Germany    4591100       2024        4456081       2023   \n",
      "4             Japan    4110452       2024        4212945       2023   \n",
      "\n",
      "  United Nations[15]             \n",
      "            Estimate       Year  \n",
      "0          100834796       2022  \n",
      "1           25744100       2022  \n",
      "2           17963170  [n 1]2022  \n",
      "3            4076923       2022  \n",
      "4            4232173       2022  \n"
     ]
    }
   ],
   "source": [
    "#5 перших рядків датасету\n",
    "import pandas as pd\n",
    "\n",
    "url = 'https://en.wikipedia.org/wiki/List_of_countries_by_GDP_(nominal)'\n",
    "tables = pd.read_html(url)\n",
    "df = tables[2]\n",
    "print(df.head())"
   ]
  },
  {
   "cell_type": "code",
   "execution_count": 16,
   "metadata": {},
   "outputs": [
    {
     "name": "stdout",
     "output_type": "stream",
     "text": [
      "\n",
      "Розмір датасету: (210, 7)\n"
     ]
    }
   ],
   "source": [
    "#2. Визначити розмір датасета.\n",
    "import pandas as pd\n",
    "\n",
    "url = 'https://en.wikipedia.org/wiki/List_of_countries_by_GDP_(nominal)'\n",
    "tables = pd.read_html(url)\n",
    "df = tables[2]\n",
    "print(\"\\nРозмір датасету:\", df.shape)"
   ]
  },
  {
   "cell_type": "code",
   "execution_count": 18,
   "metadata": {},
   "outputs": [
    {
     "name": "stdout",
     "output_type": "stream",
     "text": [
      "Оптимальна кількість стовпців: 7\n"
     ]
    }
   ],
   "source": [
    "#3. Визначити оптимальну кількість стовпців.\n",
    "import pandas as pd\n",
    "\n",
    "url = 'https://en.wikipedia.org/wiki/List_of_countries_by_GDP_(nominal)'\n",
    "tables = pd.read_html(url)\n",
    "df = tables[2]\n",
    "optimal = df.columns\n",
    "print(\"Оптимальна кількість стовпців:\", len(optimal))\n"
   ]
  },
  {
   "cell_type": "code",
   "execution_count": 67,
   "metadata": {},
   "outputs": [
    {
     "name": "stdout",
     "output_type": "stream",
     "text": [
      "MultiIndex([(       'Country',  'Country'),\n",
      "            (      'IMF_2024', 'Forecast'),\n",
      "            (      'IMF_2024',     'Year'),\n",
      "            ('WorldBank_2023', 'Forecast'),\n",
      "            ('WorldBank_2023',     'Year'),\n",
      "            (       'UN_2022', 'Forecast'),\n",
      "            (       'UN_2022',     'Year')],\n",
      "           )\n"
     ]
    }
   ],
   "source": [
    "#4. Змінити назви всіх стовпців на більш зручні на власний розсуд, \n",
    "# наприклад Country MVF_2024 WorldBank_2023 OON_2022\n",
    "import pandas as pd\n",
    "\n",
    "url = 'https://en.wikipedia.org/wiki/List_of_countries_by_GDP_(nominal)'\n",
    "tables = pd.read_html(url)\n",
    "df = tables[2]\n",
    "arrays = [['Country', 'IMF_2024', 'IMF_2024', 'WorldBank_2023', 'WorldBank_2023', \"UN_2022\", \"UN_2022\"], ['Country', 'Forecast', 'Year', 'Forecast', 'Year', 'Forecast', 'Year']]\n",
    "\n",
    "df.columns = pd.MultiIndex.from_arrays(arrays)\n",
    "print(df.columns)"
   ]
  },
  {
   "cell_type": "code",
   "execution_count": 68,
   "metadata": {},
   "outputs": [
    {
     "name": "stdout",
     "output_type": "stream",
     "text": [
      "\n",
      "Тип даних::\n",
      "Country         Country     object\n",
      "IMF_2024        Forecast    object\n",
      "                Year        object\n",
      "WorldBank_2023  Forecast    object\n",
      "                Year        object\n",
      "UN_2022         Forecast    object\n",
      "                Year        object\n",
      "dtype: object\n"
     ]
    }
   ],
   "source": [
    "#5. Визначити тип даних.\n",
    "import pandas as pd\n",
    "\n",
    "url = 'https://en.wikipedia.org/wiki/List_of_countries_by_GDP_(nominal)'\n",
    "tables = pd.read_html(url)\n",
    "df = tables[2]\n",
    "arrays = [['Country', 'IMF_2024', 'IMF_2024', 'WorldBank_2023', 'WorldBank_2023', \"UN_2022\", \"UN_2022\"], ['Country', 'Forecast', 'Year', 'Forecast', 'Year', 'Forecast', 'Year']]\n",
    "\n",
    "df.columns = pd.MultiIndex.from_arrays(arrays)\n",
    "print(\"\\nТип даних::\")\n",
    "print(df.dtypes)\n"
   ]
  },
  {
   "cell_type": "code",
   "execution_count": 70,
   "metadata": {},
   "outputs": [
    {
     "name": "stdout",
     "output_type": "stream",
     "text": [
      "Пропущені значення \n",
      "Country         Country      0\n",
      "IMF_2024        Forecast    15\n",
      "                Year        15\n",
      "WorldBank_2023  Forecast     8\n",
      "                Year         8\n",
      "UN_2022         Forecast     1\n",
      "                Year         1\n",
      "dtype: int64\n"
     ]
    }
   ],
   "source": [
    "#6. Замініть у таблиці значення \"—\" на значення NaN. \n",
    "# Перевірити наявність пропущених значень. При наявності, замінити пропущені\n",
    "# значення на середнє значення.\n",
    "import pandas as pd\n",
    "import numpy as np\n",
    "url = 'https://en.wikipedia.org/wiki/List_of_countries_by_GDP_(nominal)'\n",
    "tables = pd.read_html(url)\n",
    "df = tables[2]\n",
    "arrays = [['Country', 'IMF_2024', 'IMF_2024', 'WorldBank_2023', 'WorldBank_2023', \"UN_2022\", \"UN_2022\"],\n",
    "           ['Country', 'Forecast', 'Year', 'Forecast', 'Year', 'Forecast', 'Year']]\n",
    "\n",
    "df.columns = pd.MultiIndex.from_arrays(arrays)\n",
    "df.replace(\"—\", np.nan, inplace=True)\n",
    "df.fillna(df.mean(numeric_only=True), inplace=True)\n",
    "missed_values = df.isnull().sum()\n",
    "print(\"Пропущені значення \", missed_values, sep='\\n')"
   ]
  },
  {
   "cell_type": "code",
   "execution_count": 71,
   "metadata": {},
   "outputs": [
    {
     "name": "stdout",
     "output_type": "stream",
     "text": [
      "Пропущені значення \n",
      "Country         Country      0\n",
      "IMF_2024        Forecast    15\n",
      "                Year        15\n",
      "WorldBank_2023  Forecast     8\n",
      "                Year         8\n",
      "UN_2022         Forecast     1\n",
      "                Year         1\n",
      "dtype: int64\n"
     ]
    }
   ],
   "source": [
    "#7. Ще раз перевірити наявність пропущених значень.\n",
    "import pandas as pd\n",
    "import numpy as np\n",
    "url = 'https://en.wikipedia.org/wiki/List_of_countries_by_GDP_(nominal)'\n",
    "tables = pd.read_html(url)\n",
    "df = tables[2]\n",
    "arrays = [['Country', 'IMF_2024', 'IMF_2024', 'WorldBank_2023', 'WorldBank_2023', \"UN_2022\", \"UN_2022\"],\n",
    "           ['Country', 'Forecast', 'Year', 'Forecast', 'Year', 'Forecast', 'Year']]\n",
    "\n",
    "df.columns = pd.MultiIndex.from_arrays(arrays)\n",
    "df.replace(\"—\", np.nan, inplace=True)\n",
    "df.fillna(df.mean(numeric_only=True), inplace=True)\n",
    "missed_values = df.isnull().sum()\n",
    "print(\"Пропущені значення \", missed_values, sep='\\n')"
   ]
  },
  {
   "cell_type": "code",
   "execution_count": 75,
   "metadata": {},
   "outputs": [
    {
     "name": "stdout",
     "output_type": "stream",
     "text": [
      "Загальна кількість рядків: 210\n",
      "\n",
      "Кількість рядків після видалення дублікатів:: 210\n"
     ]
    }
   ],
   "source": [
    "#8. Перевірити наявність дублікатів. При наявності видалити дублікати.\n",
    "import pandas as pd\n",
    "import numpy as np\n",
    "url = 'https://en.wikipedia.org/wiki/List_of_countries_by_GDP_(nominal)'\n",
    "tables = pd.read_html(url)\n",
    "df = tables[2]\n",
    "arrays = [['Country', 'IMF_2024', 'IMF_2024', 'WorldBank_2023', 'WorldBank_2023', \"UN_2022\", \"UN_2022\"],\n",
    "           ['Country', 'Forecast', 'Year', 'Forecast', 'Year', 'Forecast', 'Year']]\n",
    "\n",
    "df.columns = pd.MultiIndex.from_arrays(arrays)\n",
    "df.replace(\"—\", np.nan, inplace=True)\n",
    "df.fillna(df.mean(numeric_only=True), inplace=True)\n",
    "\n",
    "print(\"Загальна кількість рядків:\", df.shape[0])\n",
    "df.drop_duplicates(inplace=True)\n",
    "print(f\"\\nКількість рядків після видалення дублікатів:: {df.shape[0]}\")\n"
   ]
  },
  {
   "cell_type": "code",
   "execution_count": 77,
   "metadata": {},
   "outputs": [
    {
     "name": "stdout",
     "output_type": "stream",
     "text": [
      "Описова статистика датасету:\n",
      "       Country   IMF_2024       WorldBank_2023          UN_2022      \n",
      "       Country   Forecast  Year       Forecast  Year   Forecast  Year\n",
      "count      210        195   195            202   202        209   209\n",
      "unique     210        195    12            202     9        209     9\n",
      "top      World  109529216  2024      105435540  2023  100834796  2022\n",
      "freq         1          1   182              1   180          1   201\n"
     ]
    }
   ],
   "source": [
    "#9. Вивести описову статистику датасету describe()\n",
    "import pandas as pd\n",
    "import numpy as np\n",
    "url = 'https://en.wikipedia.org/wiki/List_of_countries_by_GDP_(nominal)'\n",
    "tables = pd.read_html(url)\n",
    "df = tables[2]\n",
    "arrays = [['Country', 'IMF_2024', 'IMF_2024', 'WorldBank_2023', 'WorldBank_2023', \"UN_2022\", \"UN_2022\"],\n",
    "           ['Country', 'Forecast', 'Year', 'Forecast', 'Year', 'Forecast', 'Year']]\n",
    "\n",
    "df.columns = pd.MultiIndex.from_arrays(arrays)\n",
    "df.replace(\"—\", np.nan, inplace=True)\n",
    "df.fillna(df.mean(numeric_only=True), inplace=True)\n",
    "df.drop_duplicates(inplace=True)\n",
    "\n",
    "print(\"Описова статистика датасету:\")\n",
    "print(df.describe())\n"
   ]
  },
  {
   "cell_type": "code",
   "execution_count": 154,
   "metadata": {},
   "outputs": [
    {
     "name": "stdout",
     "output_type": "stream",
     "text": [
      "         Country   IMF_2024       WorldBank_2023          UN_2022      \n",
      "         Country   Forecast  Year       Forecast  Year   Forecast  Year\n",
      "0          World  109529216  2024      105435540  2023  100834796  2022\n",
      "1  United States   28781083  2024       27360935  2023   25744100  2022\n",
      "2          China   18532633  2024       17794782  2023   17963170  2022\n",
      "3        Germany    4591100  2024        4456081  2023    4076923  2022\n",
      "4          Japan    4110452  2024        4212945  2023    4232173  2022\n",
      "\n",
      " Відхилення значень  між IMF_2024 та WorldBank_2023:\n",
      "0      4093676.0\n",
      "1      1420148.0\n",
      "2       737851.0\n",
      "3       135019.0\n",
      "4      -102493.0\n",
      "         ...    \n",
      "205         32.0\n",
      "206         45.0\n",
      "207         21.0\n",
      "208          7.0\n",
      "209          4.0\n",
      "Name: (Diff, IMF_WB), Length: 210, dtype: float64\n",
      "\n",
      "Країни із найбільшим відхиленням:\n",
      "              Country       Diff\n",
      "              Country     IMF_WB\n",
      "0               World  4093676.0\n",
      "1       United States  1420148.0\n",
      "2               China   737851.0\n",
      "3             Germany   135019.0\n",
      "4               Japan  -102493.0\n",
      "..                ...        ...\n",
      "205          Kiribati       32.0\n",
      "206             Palau       45.0\n",
      "207  Marshall Islands       21.0\n",
      "208             Nauru        7.0\n",
      "209            Tuvalu        4.0\n",
      "\n",
      "[210 rows x 2 columns]\n"
     ]
    }
   ],
   "source": [
    "#10.Визначте відхилення (різницю) між показниками MVF_2024 та\n",
    "#WorldBank_2023 для кожної країни. У яких країнах ці показники\n",
    "#найбільше відрізняються (дати відповідь)\n",
    "import pandas as pd\n",
    "import numpy as np\n",
    "url = 'https://en.wikipedia.org/wiki/List_of_countries_by_GDP_(nominal)'\n",
    "tables = pd.read_html(url)\n",
    "df = tables[2]\n",
    "arrays = [['Country', 'IMF_2024', 'IMF_2024', 'WorldBank_2023', 'WorldBank_2023', \"UN_2022\", \"UN_2022\"],\n",
    "           ['Country', 'Forecast', 'Year', 'Forecast', 'Year', 'Forecast', 'Year']]\n",
    "\n",
    "df.columns = pd.MultiIndex.from_arrays(arrays)\n",
    "df.replace(\"—\", np.nan, inplace=True)\n",
    "df.fillna(df.mean(numeric_only=True), inplace=True)\n",
    "df.drop_duplicates(inplace=True)\n",
    "df = df.apply(lambda x: x.str.replace(r'\\[n \\d+\\]', '', regex=True)) #прибрано артефакти у вигляді [n *]\n",
    "print(df.head())\n",
    "#невдала спроба стандартного знаходження різниці, дані перетворено до цілочисельного типу\n",
    "df[('IMF_2024', 'Forecast')] = pd.to_numeric(df[('IMF_2024', 'Forecast')], errors='coerce')\n",
    "df[('WorldBank_2023', 'Forecast')] = pd.to_numeric(df[('WorldBank_2023', 'Forecast')], errors='coerce')\n",
    "df[('Diff', 'IMF_WB')] = df[('IMF_2024', 'Forecast')] - df[('WorldBank_2023', 'Forecast')]\n",
    "print(\"\\nВідхилення значень  між IMF_2024 та WorldBank_2023:\")\n",
    "print(df[\"Diff\", \"IMF_WB\"])\n",
    "df[('Diff', 'IMF_WB')] = pd.to_numeric(df[('Diff', 'IMF_WB')], errors='coerce')\n",
    "largest_diff = df[[('Country', 'Country'), ('Diff', 'IMF_WB')]]\n",
    "print(\"\\nКраїни із найбільшим відхиленням:\")\n",
    "print(largest_diff)\n"
   ]
  },
  {
   "cell_type": "code",
   "execution_count": 159,
   "metadata": {},
   "outputs": [
    {
     "name": "stdout",
     "output_type": "stream",
     "text": [
      "         Country   IMF_2024       WorldBank_2023          UN_2022      \n",
      "         Country   Forecast  Year       Forecast  Year   Forecast  Year\n",
      "0          World  109529216  2024      105435540  2023  100834796  2022\n",
      "1  United States   28781083  2024       27360935  2023   25744100  2022\n",
      "2          China   18532633  2024       17794782  2023   17963170  2022\n",
      "3        Germany    4591100  2024        4456081  2023    4076923  2022\n",
      "4          Japan    4110452  2024        4212945  2023    4232173  2022\n",
      "\n",
      "Матриця кореляції:                          IMF_2024 WorldBank_2023   UN_2022\n",
      "                         Forecast       Forecast  Forecast\n",
      "IMF_2024       Forecast  1.000000       0.999987  0.999902\n",
      "WorldBank_2023 Forecast  0.999987       1.000000  0.999932\n",
      "UN_2022        Forecast  0.999902       0.999932  1.000000\n"
     ]
    }
   ],
   "source": [
    "#11.Обчисліть кореляцію між показниками MVF_2024, WorldBank_2023 та\n",
    "#OON_2022. Які пари змінних мають найвищу кореляцію?\n",
    "import pandas as pd\n",
    "import numpy as np\n",
    "url = 'https://en.wikipedia.org/wiki/List_of_countries_by_GDP_(nominal)'\n",
    "tables = pd.read_html(url)\n",
    "df = tables[2]\n",
    "arrays = [['Country', 'IMF_2024', 'IMF_2024', 'WorldBank_2023', 'WorldBank_2023', \"UN_2022\", \"UN_2022\"],\n",
    "           ['Country', 'Forecast', 'Year', 'Forecast', 'Year', 'Forecast', 'Year']]\n",
    "\n",
    "df.columns = pd.MultiIndex.from_arrays(arrays)\n",
    "df.replace(\"—\", np.nan, inplace=True)\n",
    "df.fillna(df.mean(numeric_only=True), inplace=True)\n",
    "df.drop_duplicates(inplace=True)\n",
    "df = df.apply(lambda x: x.str.replace(r'\\[n \\d+\\]', '', regex=True)) #прибрано артефакти у вигляді [n *]\n",
    "print(df.head())\n",
    "df[('IMF_2024', 'Forecast')] = pd.to_numeric(df[('IMF_2024', 'Forecast')], errors='coerce')\n",
    "df[('WorldBank_2023', 'Forecast')] = pd.to_numeric(df[('WorldBank_2023', 'Forecast')], errors='coerce')\n",
    "df[\"UN_2022\", \"Forecast\"] = pd.to_numeric(df[\"UN_2022\", \"Forecast\"], errors='coerce')\n",
    "\n",
    "correlation_matrix = df[[('IMF_2024', 'Forecast'), ('WorldBank_2023', 'Forecast'), ('UN_2022', 'Forecast')]].corr()\n",
    "print(\"\\nМатриця кореляції:\", correlation_matrix)"
   ]
  },
  {
   "cell_type": "code",
   "execution_count": 161,
   "metadata": {},
   "outputs": [
    {
     "name": "stdout",
     "output_type": "stream",
     "text": [
      "         Country   IMF_2024       WorldBank_2023          UN_2022      \n",
      "         Country   Forecast  Year       Forecast  Year   Forecast  Year\n",
      "0          World  109529216  2024      105435540  2023  100834796  2022\n",
      "1  United States   28781083  2024       27360935  2023   25744100  2022\n",
      "2          China   18532633  2024       17794782  2023   17963170  2022\n",
      "3        Germany    4591100  2024        4456081  2023    4076923  2022\n",
      "4          Japan    4110452  2024        4212945  2023    4232173  2022\n",
      "\n",
      "Середнє значення: IMF_2024        Forecast    1.123228e+06\n",
      "WorldBank_2023  Forecast    1.037206e+06\n",
      "UN_2022         Forecast    9.612699e+05\n",
      "dtype: float64\n"
     ]
    }
   ],
   "source": [
    "#12.Обчисліть середнє значення для кожного стовпця (MVF_2024,\n",
    "#WorldBank_2023, OON_2022). Як це середнє значення змінюється між\n",
    "#роками?\n",
    "import pandas as pd\n",
    "import numpy as np\n",
    "url = 'https://en.wikipedia.org/wiki/List_of_countries_by_GDP_(nominal)'\n",
    "tables = pd.read_html(url)\n",
    "df = tables[2]\n",
    "arrays = [['Country', 'IMF_2024', 'IMF_2024', 'WorldBank_2023', 'WorldBank_2023', \"UN_2022\", \"UN_2022\"],\n",
    "           ['Country', 'Forecast', 'Year', 'Forecast', 'Year', 'Forecast', 'Year']]\n",
    "\n",
    "df.columns = pd.MultiIndex.from_arrays(arrays)\n",
    "df.replace(\"—\", np.nan, inplace=True)\n",
    "df.fillna(df.mean(numeric_only=True), inplace=True)\n",
    "df.drop_duplicates(inplace=True)\n",
    "df = df.apply(lambda x: x.str.replace(r'\\[n \\d+\\]', '', regex=True)) #прибрано артефакти у вигляді [n *]\n",
    "print(df.head())\n",
    "df[('IMF_2024', 'Forecast')] = pd.to_numeric(df[('IMF_2024', 'Forecast')], errors='coerce')\n",
    "df[('WorldBank_2023', 'Forecast')] = pd.to_numeric(df[('WorldBank_2023', 'Forecast')], errors='coerce')\n",
    "df[\"UN_2022\", \"Forecast\"] = pd.to_numeric(df[\"UN_2022\", \"Forecast\"], errors='coerce')\n",
    "\n",
    "mean = df[[('IMF_2024', 'Forecast'), ('WorldBank_2023', 'Forecast'), ('UN_2022', 'Forecast')]].mean()\n",
    "print(\"\\nСереднє значення:\", mean)\n",
    "#середнє значення збільшується"
   ]
  },
  {
   "cell_type": "code",
   "execution_count": 164,
   "metadata": {},
   "outputs": [
    {
     "name": "stdout",
     "output_type": "stream",
     "text": [
      "         Country   IMF_2024       WorldBank_2023          UN_2022      \n",
      "         Country   Forecast  Year       Forecast  Year   Forecast  Year\n",
      "0          World  109529216  2024      105435540  2023  100834796  2022\n",
      "1  United States   28781083  2024       27360935  2023   25744100  2022\n",
      "2          China   18532633  2024       17794782  2023   17963170  2022\n",
      "3        Germany    4591100  2024        4456081  2023    4076923  2022\n",
      "4          Japan    4110452  2024        4212945  2023    4232173  2022\n",
      "\n",
      "          Country     IMF_2024       WorldBank_2023            UN_2022        \\\n",
      "         Country     Forecast  Year       Forecast  Year     Forecast  Year   \n",
      "0          World  109529216.0  2024    105435540.0  2023  100834796.0  2022   \n",
      "1  United States   28781083.0  2024     27360935.0  2023   25744100.0  2022   \n",
      "2          China   18532633.0  2024     17794782.0  2023   17963170.0  2022   \n",
      "3        Germany    4591100.0  2024      4456081.0  2023    4076923.0  2022   \n",
      "4          Japan    4110452.0  2024      4212945.0  2023    4232173.0  2022   \n",
      "\n",
      "        Std_Dev  \n",
      "                 \n",
      "0  4.349674e+06  \n",
      "1  1.519553e+06  \n",
      "2  3.866667e+05  \n",
      "3  2.665736e+05  \n",
      "4  6.543512e+04  \n",
      "\n",
      "Country with the highest variation in GDP across years:\n",
      "         Country       Std_Dev\n",
      "         Country              \n",
      "1  United States  1.519553e+06\n"
     ]
    }
   ],
   "source": [
    "#13.Обчисліть стандартне відхилення показників для кожної країни. Яка\n",
    "#країна має найвищу варіативність у показниках між роками?\n",
    "import pandas as pd\n",
    "import numpy as np\n",
    "url = 'https://en.wikipedia.org/wiki/List_of_countries_by_GDP_(nominal)'\n",
    "tables = pd.read_html(url)\n",
    "df = tables[2]\n",
    "arrays = [['Country', 'IMF_2024', 'IMF_2024', 'WorldBank_2023', 'WorldBank_2023', \"UN_2022\", \"UN_2022\"],\n",
    "           ['Country', 'Forecast', 'Year', 'Forecast', 'Year', 'Forecast', 'Year']]\n",
    "\n",
    "df.columns = pd.MultiIndex.from_arrays(arrays)\n",
    "df.replace(\"—\", np.nan, inplace=True)\n",
    "df.fillna(df.mean(numeric_only=True), inplace=True)\n",
    "df.drop_duplicates(inplace=True)\n",
    "df = df.apply(lambda x: x.str.replace(r'\\[n \\d+\\]', '', regex=True)) #прибрано артефакти у вигляді [n *]\n",
    "print(df.head())\n",
    "df[('IMF_2024', 'Forecast')] = pd.to_numeric(df[('IMF_2024', 'Forecast')], errors='coerce')\n",
    "df[('WorldBank_2023', 'Forecast')] = pd.to_numeric(df[('WorldBank_2023', 'Forecast')], errors='coerce')\n",
    "df[\"UN_2022\", \"Forecast\"] = pd.to_numeric(df[\"UN_2022\", \"Forecast\"], errors='coerce')\n",
    "\n",
    "df[\"Std_Dev\"] = df[[('IMF_2024', 'Forecast'), ('WorldBank_2023', 'Forecast'), ('UN_2022', 'Forecast')]].std(axis=1)\n",
    "print(\"\\n\", df.head())\n",
    "df_no_world = df[df[('Country', 'Country')] != 'World']\n",
    "highest_variation = df_no_world.nlargest(1, \"Std_Dev\")\n",
    "print(\"\\nCountry with the highest variation in GDP across years:\")\n",
    "print(highest_variation[[\"Country\", \"Std_Dev\"]])"
   ]
  },
  {
   "cell_type": "code",
   "execution_count": 169,
   "metadata": {},
   "outputs": [
    {
     "name": "stdout",
     "output_type": "stream",
     "text": [
      "         Country   IMF_2024       WorldBank_2023          UN_2022      \n",
      "         Country   Forecast  Year       Forecast  Year   Forecast  Year\n",
      "0          World  109529216  2024      105435540  2023  100834796  2022\n",
      "1  United States   28781083  2024       27360935  2023   25744100  2022\n",
      "2          China   18532633  2024       17794782  2023   17963170  2022\n",
      "3        Germany    4591100  2024        4456081  2023    4076923  2022\n",
      "4          Japan    4110452  2024        4212945  2023    4232173  2022\n",
      "\n",
      "          Country     IMF_2024       WorldBank_2023            UN_2022        \\\n",
      "         Country     Forecast  Year       Forecast  Year     Forecast  Year   \n",
      "0          World  109529216.0  2024    105435540.0  2023  100834796.0  2022   \n",
      "1  United States   28781083.0  2024     27360935.0  2023   25744100.0  2022   \n",
      "2          China   18532633.0  2024     17794782.0  2023   17963170.0  2022   \n",
      "3        Germany    4591100.0  2024      4456081.0  2023    4076923.0  2022   \n",
      "4          Japan    4110452.0  2024      4212945.0  2023    4232173.0  2022   \n",
      "\n",
      "        Std_Dev  \n",
      "                 \n",
      "0  4.349674e+06  \n",
      "1  1.519553e+06  \n",
      "2  3.866667e+05  \n",
      "3  2.665736e+05  \n",
      "4  6.543512e+04  \n",
      "\n",
      "Country with the highest and lowest GDP in IMF_2024:\n",
      "         Country    IMF_2024\n",
      "         Country    Forecast\n",
      "1  United States  28781083.0     Country IMF_2024\n",
      "    Country Forecast\n",
      "209  Tuvalu     66.0\n",
      "\n",
      "Country with the highest and lowest GDP in WorldBank_2023:\n",
      "         Country WorldBank_2023\n",
      "         Country       Forecast\n",
      "1  United States     27360935.0     Country WorldBank_2023\n",
      "    Country       Forecast\n",
      "209  Tuvalu           62.0\n",
      "\n",
      "Country with the highest and lowest GDP in UN_2022:\n",
      "         Country     UN_2022\n",
      "         Country    Forecast\n",
      "1  United States  25744100.0     Country  UN_2022\n",
      "    Country Forecast\n",
      "209  Tuvalu     59.0\n"
     ]
    }
   ],
   "source": [
    "#14.Визначення країни з найвищим та найнижчим показниками: Знайдіть\n",
    "#країну з найвищим та найнижчим показниками у кожному з років\n",
    "#(MVF_2024, WorldBank_2023, OON_2022).\n",
    "import pandas as pd\n",
    "import numpy as np\n",
    "url = 'https://en.wikipedia.org/wiki/List_of_countries_by_GDP_(nominal)'\n",
    "tables = pd.read_html(url)\n",
    "df = tables[2]\n",
    "arrays = [['Country', 'IMF_2024', 'IMF_2024', 'WorldBank_2023', 'WorldBank_2023', \"UN_2022\", \"UN_2022\"],\n",
    "           ['Country', 'Forecast', 'Year', 'Forecast', 'Year', 'Forecast', 'Year']]\n",
    "\n",
    "df.columns = pd.MultiIndex.from_arrays(arrays)\n",
    "df.replace(\"—\", np.nan, inplace=True)\n",
    "df.fillna(df.mean(numeric_only=True), inplace=True)\n",
    "df.drop_duplicates(inplace=True)\n",
    "df = df.apply(lambda x: x.str.replace(r'\\[n \\d+\\]', '', regex=True)) #прибрано артефакти у вигляді [n *]\n",
    "print(df.head())\n",
    "df[('IMF_2024', 'Forecast')] = pd.to_numeric(df[('IMF_2024', 'Forecast')], errors='coerce')\n",
    "df[('WorldBank_2023', 'Forecast')] = pd.to_numeric(df[('WorldBank_2023', 'Forecast')], errors='coerce')\n",
    "df[\"UN_2022\", \"Forecast\"] = pd.to_numeric(df[\"UN_2022\", \"Forecast\"], errors='coerce')\n",
    "\n",
    "df[\"Std_Dev\"] = df[[('IMF_2024', 'Forecast'), ('WorldBank_2023', 'Forecast'), ('UN_2022', 'Forecast')]].std(axis=1)\n",
    "print(\"\\n\", df.head())\n",
    "df_no_world = df[df[('Country', 'Country')] != 'World']\n",
    "\n",
    "highest_mvf = df_no_world.nlargest(1, ('IMF_2024', 'Forecast'))\n",
    "lowest_mvf = df_no_world.nsmallest(1, ('WorldBank_2023', 'Forecast'))\n",
    "highest_wb = df_no_world.nlargest(1, ('WorldBank_2023', 'Forecast'))\n",
    "lowest_wb = df_no_world.nsmallest(1, ('WorldBank_2023', 'Forecast'))\n",
    "highest_oon = df_no_world.nlargest(1, (\"UN_2022\", \"Forecast\"))\n",
    "lowest_oon = df_no_world.nsmallest(1, (\"UN_2022\", \"Forecast\"))\n",
    "\n",
    "IMF = [('Country', 'Country'), ('IMF_2024', 'Forecast')]\n",
    "WB = [('Country', 'Country'), ('WorldBank_2023', 'Forecast')]\n",
    "UN = [('Country', 'Country'), (\"UN_2022\", \"Forecast\")]\n",
    "\n",
    "print(\"\\nCountry with the highest and lowest GDP in IMF_2024:\")\n",
    "print(highest_mvf[IMF], lowest_mvf[IMF])\n",
    "\n",
    "print(\"\\nCountry with the highest and lowest GDP in WorldBank_2023:\")\n",
    "print(highest_wb[WB], lowest_wb[WB])\n",
    "\n",
    "print(\"\\nCountry with the highest and lowest GDP in UN_2022:\")\n",
    "print(highest_oon[UN], lowest_oon[UN])"
   ]
  },
  {
   "cell_type": "code",
   "execution_count": 1,
   "metadata": {},
   "outputs": [
    {
     "name": "stdout",
     "output_type": "stream",
     "text": [
      "\n",
      "          Country     IMF_2024       WorldBank_2023            UN_2022      \n",
      "         Country     Forecast  Year       Forecast  Year     Forecast  Year\n",
      "0          World  109529216.0  2024    105435540.0  2023  100834796.0  2022\n",
      "1  United States   28781083.0  2024     27360935.0  2023   25744100.0  2022\n",
      "2          China   18532633.0  2024     17794782.0  2023   17963170.0  2022\n",
      "3        Germany    4591100.0  2024      4456081.0  2023    4076923.0  2022\n",
      "4          Japan    4110452.0  2024      4212945.0  2023    4232173.0  2022\n"
     ]
    },
    {
     "data": {
      "image/png": "[encoded data removed]",
      "text/plain": [
       "<Figure size 1000x600 with 1 Axes>"
      ]
     },
     "metadata": {},
     "output_type": "display_data"
    }
   ],
   "source": [
    "#15.Побудуйте гістограму для розподілу показників MVF_2024 серед всіх\n",
    "#країн. Який вигляд має розподіл? Чи є країни, що виділяються?\n",
    "import pandas as pd\n",
    "import numpy as np\n",
    "import matplotlib.pyplot as plt\n",
    "import seaborn as sns\n",
    "url = 'https://en.wikipedia.org/wiki/List_of_countries_by_GDP_(nominal)'\n",
    "tables = pd.read_html(url)\n",
    "df = tables[2]\n",
    "arrays = [['Country', 'IMF_2024', 'IMF_2024', 'WorldBank_2023', 'WorldBank_2023', \"UN_2022\", \"UN_2022\"],\n",
    "           ['Country', 'Forecast', 'Year', 'Forecast', 'Year', 'Forecast', 'Year']]\n",
    "\n",
    "df.columns = pd.MultiIndex.from_arrays(arrays)\n",
    "df.replace(\"—\", np.nan, inplace=True)\n",
    "df.fillna(df.mean(numeric_only=True), inplace=True)\n",
    "df.drop_duplicates(inplace=True)\n",
    "df = df.apply(lambda x: x.str.replace(r'\\[n \\d+\\]', '', regex=True)) #прибрано артефакти у вигляді [n *]\n",
    "\n",
    "df[('IMF_2024', 'Forecast')] = pd.to_numeric(df[('IMF_2024', 'Forecast')], errors='coerce')\n",
    "df[('WorldBank_2023', 'Forecast')] = pd.to_numeric(df[('WorldBank_2023', 'Forecast')], errors='coerce')\n",
    "df[\"UN_2022\", \"Forecast\"] = pd.to_numeric(df[\"UN_2022\", \"Forecast\"], errors='coerce')\n",
    "\n",
    "print(\"\\n\", df.head())\n",
    "df_no_world = df[df[('Country', 'Country')] != 'World']\n",
    "IMF = [('Country', 'Country'), ('IMF_2024', 'Forecast')]\n",
    "WB = [('Country', 'Country'), ('WorldBank_2023', 'Forecast')]\n",
    "UN = [('Country', 'Country'), (\"UN_2022\", \"Forecast\")]\n",
    "\n",
    "plt.figure(figsize=(10, 6))\n",
    "sns.histplot(df_no_world[IMF].dropna(), bins=30, kde=True)\n",
    "plt.title(\"Розподіл IMF_2024\")\n",
    "plt.xlabel(\"IMF_2024\")\n",
    "plt.show()"
   ]
  },
  {
   "cell_type": "code",
   "execution_count": 8,
   "metadata": {},
   "outputs": [
    {
     "name": "stdout",
     "output_type": "stream",
     "text": [
      "\n",
      "          Country     IMF_2024       WorldBank_2023            UN_2022      \n",
      "         Country     Forecast  Year       Forecast  Year     Forecast  Year\n",
      "0          World  109529216.0  2024    105435540.0  2023  100834796.0  2022\n",
      "1  United States   28781083.0  2024     27360935.0  2023   25744100.0  2022\n",
      "2          China   18532633.0  2024     17794782.0  2023   17963170.0  2022\n",
      "3        Germany    4591100.0  2024      4456081.0  2023    4076923.0  2022\n",
      "4          Japan    4110452.0  2024      4212945.0  2023    4232173.0  2022\n",
      "\n",
      "Top 5 countries by share of total IMF_2024:\n",
      "         Country  Share_IMF\n",
      "         Country           \n",
      "1  United States  13.140283\n",
      "2          China   8.461254\n",
      "3        Germany   2.096111\n",
      "4          Japan   1.876667\n",
      "5          India   1.797481\n"
     ]
    }
   ],
   "source": [
    "#16.Розрахуйте частку кожної країни в загальному значенні для кожного\n",
    "#року (MVF_2024, WorldBank_2023, OON_2022). Як змінюються частки\n",
    "#країн з часом (дати відповідь)?\n",
    "import pandas as pd\n",
    "import numpy as np\n",
    "url = 'https://en.wikipedia.org/wiki/List_of_countries_by_GDP_(nominal)'\n",
    "tables = pd.read_html(url)\n",
    "df = tables[2]\n",
    "arrays = [['Country', 'IMF_2024', 'IMF_2024', 'WorldBank_2023', 'WorldBank_2023', \"UN_2022\", \"UN_2022\"],\n",
    "           ['Country', 'Forecast', 'Year', 'Forecast', 'Year', 'Forecast', 'Year']]\n",
    "\n",
    "df.columns = pd.MultiIndex.from_arrays(arrays)\n",
    "df.replace(\"—\", np.nan, inplace=True)\n",
    "df.fillna(df.mean(numeric_only=True), inplace=True)\n",
    "df.drop_duplicates(inplace=True)\n",
    "df = df.apply(lambda x: x.str.replace(r'\\[n \\d+\\]', '', regex=True)) #прибрано артефакти у вигляді [n *]\n",
    "\n",
    "IMFNUM = df[('IMF_2024', 'Forecast')] = pd.to_numeric(df[('IMF_2024', 'Forecast')], errors='coerce')\n",
    "WBNUM = df[('WorldBank_2023', 'Forecast')] = pd.to_numeric(df[('WorldBank_2023', 'Forecast')], errors='coerce')\n",
    "UNNUM = df[\"UN_2022\", \"Forecast\"] = pd.to_numeric(df[\"UN_2022\", \"Forecast\"], errors='coerce')\n",
    "\n",
    "print(\"\\n\", df.head())\n",
    "df_no_world = df[df[('Country', 'Country')] != 'World']\n",
    "df = df_no_world\n",
    "\n",
    "df[\"Share_IMF\"] = IMFNUM / IMFNUM.sum() * 100\n",
    "df[\"Share_WB\"] = WBNUM / WBNUM.sum() * 100\n",
    "df[\"Share_UN\"] = UNNUM / UNNUM.sum() * 100\n",
    "\n",
    "print(\"\\nTop 5 countries by share of total IMF_2024:\")\n",
    "print(df.nlargest(5, \"Share_IMF\")[[\"Country\", \"Share_IMF\"]])"
   ]
  },
  {
   "cell_type": "code",
   "execution_count": 18,
   "metadata": {},
   "outputs": [
    {
     "data": {
      "image/png": "[encoded data removed]",
      "text/plain": [
       "<Figure size 1200x800 with 1 Axes>"
      ]
     },
     "metadata": {},
     "output_type": "display_data"
    }
   ],
   "source": [
    "#17.Візуалізуйте зміни в показниках для кожної країни за три роки на\n",
    "#графіку. Які країни показують стабільне зростання або спад (дати\n",
    "#відповідь)?\n",
    "import pandas as pd\n",
    "import numpy as np\n",
    "url = 'https://en.wikipedia.org/wiki/List_of_countries_by_GDP_(nominal)'\n",
    "tables = pd.read_html(url)\n",
    "df = tables[2]\n",
    "arrays = [['Country', 'IMF_2024', 'IMF_2024', 'WorldBank_2023', 'WorldBank_2023', \"UN_2022\", \"UN_2022\"],\n",
    "           ['Country', 'Forecast', 'Year', 'Forecast', 'Year', 'Forecast', 'Year']]\n",
    "\n",
    "df.columns = pd.MultiIndex.from_arrays(arrays)\n",
    "df.replace(\"—\", np.nan, inplace=True)\n",
    "df.fillna(df.mean(numeric_only=True), inplace=True)\n",
    "df.drop_duplicates(inplace=True)\n",
    "df = df.apply(lambda x: x.str.replace(r'\\[n \\d+\\]', '', regex=True)) #прибрано артефакти у вигляді [n *]\n",
    "\n",
    "IMFNUM = df[('IMF_2024', 'Forecast')] = pd.to_numeric(df[('IMF_2024', 'Forecast')], errors='coerce')\n",
    "WBNUM = df[('WorldBank_2023', 'Forecast')] = pd.to_numeric(df[('WorldBank_2023', 'Forecast')], errors='coerce')\n",
    "UNNUM = df[\"UN_2022\", \"Forecast\"] = pd.to_numeric(df[\"UN_2022\", \"Forecast\"], errors='coerce')\n",
    "\n",
    "df_no_world = df[df[('Country', 'Country')] != 'World']\n",
    "df = df_no_world\n",
    "\n",
    "df[\"Share_IMF\"] = IMFNUM / IMFNUM.sum() * 100\n",
    "df[\"Share_WB\"] = WBNUM / WBNUM.sum() * 100\n",
    "df[\"Share_UN\"] = UNNUM / UNNUM.sum() * 100\n",
    "largest = df.nlargest(5, \"Share_IMF\")\n",
    "largest.set_index(\"Country\")[[\"IMF_2024\", \"WorldBank_2023\", \"UN_2022\"]].plot(kind=\"barh\", figsize=(12, 8))\n",
    "plt.title(\"ВВП за 3 роки\")\n",
    "plt.xlabel(\"ВВП (в мільйонах доларів)\")\n",
    "plt.ylabel(\"Країна\")\n",
    "plt.show()\n"
   ]
  }
 ],
 "metadata": {
  "kernelspec": {
   "display_name": "Python 3",
   "language": "python",
   "name": "python3"
  },
  "language_info": {
   "codemirror_mode": {
    "name": "ipython",
    "version": 3
   },
   "file_extension": ".py",
   "mimetype": "text/x-python",
   "name": "python",
   "nbconvert_exporter": "python",
   "pygments_lexer": "ipython3",
   "version": "3.11.4"
  }
 },
 "nbformat": 4,
 "nbformat_minor": 2
}
